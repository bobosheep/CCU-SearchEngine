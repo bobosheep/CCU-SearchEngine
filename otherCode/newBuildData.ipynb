{
 "cells": [
  {
   "cell_type": "code",
   "execution_count": 1,
   "metadata": {},
   "outputs": [],
   "source": [
    "from elasticsearch import Elasticsearch\n",
    "from elasticsearch import helpers\n",
    "import time"
   ]
  },
  {
   "cell_type": "code",
   "execution_count": 2,
   "metadata": {},
   "outputs": [],
   "source": [
    "es = Elasticsearch()\n",
    "#es.indices.delete(index='facebook', ignore_unavailable=True)"
   ]
  },
  {
   "cell_type": "code",
   "execution_count": 3,
   "metadata": {},
   "outputs": [],
   "source": [
    "fb_DOC = '../data/facebook/'\n",
    "ettoday_DOC = '../data/ettoday/'\n",
    "BATCH_SIZE = 4000"
   ]
  },
  {
   "cell_type": "code",
   "execution_count": 4,
   "metadata": {},
   "outputs": [],
   "source": [
    "def getInfo(data):\n",
    "    for line in data:\n",
    "        line = line.strip()\n",
    "        \n",
    "        if line.startswith('message:') or line.startswith('content:'):\n",
    "            record = dict()\n",
    "            record['content'] = line[8:];\n",
    "        elif line.startswith('created_time:'):\n",
    "            record['created_time'] = line[13:];\n",
    "        elif line.startswith('id:'):\n",
    "            record['id'] = line[3:]\n",
    "            record['title'] = '靠北中正-Facebook'\n",
    "            record['url'] = ''\n",
    "            yield record\n",
    "        '''\n",
    "        if line.startswith('@GAISRec:'):\n",
    "            record = dict()\n",
    "        elif line.startswith('@U:'):\n",
    "            record['url'] = line[3:]\n",
    "        elif line.startswith('@T:'):\n",
    "            record['title'] = line[3:]\n",
    "        elif line.startswith('@B:'):\n",
    "            pass\n",
    "        else:\n",
    "            record['content'] = line\n",
    "            yield record\n",
    "        '''"
   ]
  },
  {
   "cell_type": "code",
   "execution_count": 6,
   "metadata": {
    "scrolled": false
   },
   "outputs": [
    {
     "name": "stdout",
     "output_type": "stream",
     "text": [
      "4672\n"
     ]
    },
    {
     "ename": "ZeroDivisionError",
     "evalue": "division by zero",
     "output_type": "error",
     "traceback": [
      "\u001b[1;31m---------------------------------------------------------------------------\u001b[0m",
      "\u001b[1;31mZeroDivisionError\u001b[0m                         Traceback (most recent call last)",
      "\u001b[1;32m<ipython-input-6-d4f10faaeb5e>\u001b[0m in \u001b[0;36m<module>\u001b[1;34m()\u001b[0m\n\u001b[0;32m     37\u001b[0m \u001b[0mend\u001b[0m \u001b[1;33m=\u001b[0m \u001b[0mtime\u001b[0m\u001b[1;33m.\u001b[0m\u001b[0mtime\u001b[0m\u001b[1;33m(\u001b[0m\u001b[1;33m)\u001b[0m\u001b[1;33m\u001b[0m\u001b[0m\n\u001b[0;32m     38\u001b[0m \u001b[0mprint\u001b[0m\u001b[1;33m(\u001b[0m\u001b[0mcnt\u001b[0m\u001b[1;33m)\u001b[0m\u001b[1;33m\u001b[0m\u001b[0m\n\u001b[1;32m---> 39\u001b[1;33m \u001b[0mprint\u001b[0m\u001b[1;33m(\u001b[0m\u001b[1;34m\"total cost {0}s\\nAverage batch cost {1}s\\n\"\u001b[0m\u001b[1;33m.\u001b[0m\u001b[0mformat\u001b[0m\u001b[1;33m(\u001b[0m\u001b[1;33m(\u001b[0m\u001b[0mend\u001b[0m \u001b[1;33m-\u001b[0m \u001b[0mstart\u001b[0m\u001b[1;33m)\u001b[0m\u001b[1;33m,\u001b[0m \u001b[0mbatchAvg\u001b[0m \u001b[1;33m/\u001b[0m \u001b[0mbatchCnt\u001b[0m\u001b[1;33m)\u001b[0m\u001b[1;33m)\u001b[0m\u001b[1;33m\u001b[0m\u001b[0m\n\u001b[0m\u001b[0;32m     40\u001b[0m \u001b[1;33m\u001b[0m\u001b[0m\n\u001b[0;32m     41\u001b[0m \u001b[1;31m#print(data)\u001b[0m\u001b[1;33m\u001b[0m\u001b[1;33m\u001b[0m\u001b[0m\n",
      "\u001b[1;31mZeroDivisionError\u001b[0m: division by zero"
     ]
    }
   ],
   "source": [
    "cnt = 0\n",
    "doc1 = ['ettoday0.rec', 'ettoday1.rec', 'ettoday2.rec', 'ettoday3.rec', 'ettoday4.rec', 'ettoday5.rec']\n",
    "doc2 = ['haterccu.rec', 'haterccu1.rec', 'haterccu2.rec']\n",
    "batchTime = []\n",
    "batchAvg = 0\n",
    "batchCnt = 0\n",
    "start = time.time()\n",
    "for d in doc2:\n",
    "    with open(fb_DOC+d, \"r\", encoding='UTF-8') as fileopen:\n",
    "         data = fileopen.readlines()\n",
    "    acts = []\n",
    "    for rec in getInfo(data):\n",
    "        #print(rec)\n",
    "        acts.append({\n",
    "            '_index': 'news',\n",
    "            '_type': 'ettoday',\n",
    "            '_id': cnt,\n",
    "            '_source': rec,\n",
    "        })\n",
    "        cnt += 1\n",
    "        if len(acts) == BATCH_SIZE:\n",
    "            batch_start = time.time()\n",
    "            print('finish {0} datas'.format(cnt))\n",
    "            helpers.bulk(es, acts)\n",
    "            batch_end = time.time()\n",
    "            batch = batch_end - batch_start\n",
    "            batchTime.append(batch)\n",
    "            batchAvg += batch;\n",
    "            batchCnt += 1;\n",
    "            print(\"This batch cost {0}s\".format(batch))\n",
    "            \n",
    "            acts = []\n",
    "    if len(acts) > 0:\n",
    "        helpers.bulk(es, acts)\n",
    "        acts = []\n",
    "\n",
    "end = time.time()\n",
    "print(cnt)\n",
    "print(\"total cost {0}s\\nAverage batch cost {1}s\\n\".format((end - start), batchAvg / batchCnt))\n",
    "\n",
    "#print(data)"
   ]
  },
  {
   "cell_type": "code",
   "execution_count": 8,
   "metadata": {},
   "outputs": [
    {
     "name": "stdout",
     "output_type": "stream",
     "text": [
      "[8.725812196731567, 5.825797080993652, 13.059644937515259, 10.955091714859009, 7.981937885284424, 9.623558044433594, 7.487682580947876, 6.1489949226379395, 7.822362661361694, 6.887320280075073, 7.1957855224609375, 7.828681468963623, 6.870309114456177, 5.4076032638549805, 6.950597286224365, 7.452031850814819, 5.601101398468018, 5.713937520980835, 11.208144187927246, 10.519836664199829, 8.050543546676636, 9.55510950088501, 8.707778453826904, 6.363851070404053, 12.4821035861969, 20.561482191085815, 13.674686908721924, 10.736132621765137, 11.011675119400024, 17.602084636688232, 13.339221477508545, 10.724190473556519, 11.288714408874512, 16.479001998901367, 13.863921165466309, 19.048784732818604, 19.57150411605835, 17.201951026916504, 15.346946477890015, 19.380248308181763, 19.897510051727295, 19.41357111930847, 10.104469299316406, 8.804802656173706, 9.145060062408447, 5.505807161331177, 6.731070280075073, 6.707236051559448, 6.79806923866272, 6.831772565841675, 7.443193435668945, 4.8949244022369385, 6.751058578491211, 9.445836067199707, 10.72886061668396, 12.309629440307617, 10.648080110549927, 7.794156074523926, 7.43377947807312, 10.597380638122559, 9.235070705413818, 14.525261163711548, 15.993765354156494, 12.304354906082153, 12.336514711380005, 12.598759412765503, 15.293784141540527, 12.00011134147644, 11.82500171661377, 10.920790195465088, 13.622776508331299, 12.511399745941162, 10.973158121109009, 10.239728689193726, 9.709608316421509, 9.198391437530518, 7.021408796310425, 7.689174175262451, 6.524203300476074, 6.0819995403289795, 7.0514771938323975, 6.561089754104614, 5.841794490814209, 13.639358282089233, 13.857915163040161, 9.6147141456604, 10.755314350128174, 13.316834688186646, 13.51956582069397, 15.51486611366272, 9.198535442352295, 8.028339147567749, 8.61985182762146, 6.749928712844849, 6.721876382827759, 7.851271867752075, 8.860599517822266, 5.8148651123046875, 7.394423246383667, 6.925854682922363, 8.049416542053223, 12.761469841003418, 7.128164529800415, 7.235624074935913, 11.693652391433716, 9.850181579589844, 8.102243661880493, 7.728616237640381, 9.064868927001953, 7.85998797416687, 11.796883583068848, 12.850933074951172, 12.200840473175049, 15.839449167251587, 13.86716079711914, 14.219223260879517, 15.317256927490234, 17.20643448829651, 15.129151105880737, 15.89807391166687, 12.730716228485107, 15.037811517715454, 10.859009981155396, 14.714215755462646, 12.353410243988037, 10.325252294540405, 9.792867660522461, 10.271883249282837, 9.913350582122803, 9.76313591003418, 11.895804166793823]\n",
      "131\n"
     ]
    }
   ],
   "source": [
    "print(batchTime)\n",
    "print(batchCnt)"
   ]
  },
  {
   "cell_type": "code",
   "execution_count": null,
   "metadata": {},
   "outputs": [],
   "source": []
  }
 ],
 "metadata": {
  "kernelspec": {
   "display_name": "Python 3",
   "language": "python",
   "name": "python3"
  },
  "language_info": {
   "codemirror_mode": {
    "name": "ipython",
    "version": 3
   },
   "file_extension": ".py",
   "mimetype": "text/x-python",
   "name": "python",
   "nbconvert_exporter": "python",
   "pygments_lexer": "ipython3",
   "version": "3.6.4"
  }
 },
 "nbformat": 4,
 "nbformat_minor": 2
}
